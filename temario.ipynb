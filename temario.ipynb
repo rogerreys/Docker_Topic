{
 "cells": [
  {
   "attachments": {},
   "cell_type": "markdown",
   "metadata": {},
   "source": [
    "# CONTENEDORES\n",
    "## Que es un contenedor ?\n",
    "\n",
    "- Es una agrupación de procesos.\n",
    "\n",
    "- Es una entidad lógica, no tiene el limite estricto de las máquinas virtuales, emulación del sistema operativo simulado por otra más abajo.\n",
    "\n",
    "- Ejecuta sus procesos de forma nativa.\n",
    "\n",
    "- Los procesos que se ejecutan adentro de los contenedores ven su universo como el contenedor lo define, no pueden ver mas allá del contenedor, a pesar de estar corriendo en una maquina más grande.\n",
    "\n",
    "- No tienen forma de consumir más recursos que los que se les permite. Si esta restringido en memoria ram por ejemplo, es la única que pueden usar.\n",
    "\n",
    "- A fines prácticos los podemos imaginar cómo maquinas virtuales, pero NO lo son. Máquinas virtuales livianas.\n",
    "\n",
    "- Docker corre de forma nativa solo en Linux.\n",
    "\n",
    "- Sector del disco: Cuando un contenedor es ejecutado, el daemon de docker le dice, a partir de acá para arriba este disco es tuyo, pero no puedes subir mas arriba.\n",
    "\n",
    "- Docker hace que los procesos adentro de un contenedor este aislados del resto del sistema, no le permite ver más allá.\n",
    "\n",
    "- Cada contenedor tiene un ID único, también tiene un nombre.\n",
    "<img src=\"https://devopedia.org/images/article/101/8323.1565281088.png\" width=\"650px\">\n",
    "\n",
    "## Ciclo de vida de un contenedor\n",
    "Cada vez que un contendor se ejecuta, en realidad lo que ejecuta es un proceso del sistema operativo. Este proceso se le conoce como Main process.\n",
    "\n",
    "### Main process\n",
    "Determina la vida del contenedor, un contendor corre siempre y cuando su proceso principal este corriendo.\n",
    "El contenedor se apaga cuando su proceso principal (main process) hace \"exit\",\n",
    "para correr un contenedor que no se apaga automaticamente, solo utilizando el modo iterativo. Se hace correr otro proceso no el bin/bash/ que no haga exit\n",
    "\n",
    "### Sub process\n",
    "Un contenedor puede tener o lanzar procesos alternos al main process, si estos fallan el contenedor va a seguir encedido a menos que falle el main.\n",
    "\n",
    "Ejemplos manejados en el video\n",
    "- Batch como Main process\n",
    "- Agujero negro (/dev/null) como Main process\n",
    "\n",
    "```\n",
    "docker run --name alwaysup -d ubuntu tail -f /dev/null\n",
    "-d --detach: \n",
    "tail -f /dev/null: espesifico el comando que corre\n",
    "```\n",
    "\n",
    "\n",
    "## Interfaz de red\n",
    "Cada contenedor tiene su interfaz de red, para conectar el puerto del contenero al exterior, se usa el comando publis (-p)\n",
    "```\n",
    "docker run -p <public port>:<container port> container\n",
    "```"
   ]
  },
  {
   "attachments": {},
   "cell_type": "markdown",
   "metadata": {},
   "source": [
    "# Datos en Docker\n",
    "## Volumenes \n",
    " Los volúmenes son una forma de persistir y compartir datos entre contenedores y el host. Los volúmenes de Docker son directorios o archivos en el host que se montan en el contenedor y se utilizan para almacenar y compartir datos de forma persistente.\n",
    " Al utilizar volúmenes, los datos almacenados en ellos son independientes del ciclo de vida del contenedor, lo que significa que los datos persisten incluso después de que el contenedor se detiene o se borra. Esto es útil para aplicaciones que necesitan almacenar datos persistentes, como bases de datos, archivos de configuración, archivos de registro, etc\n",
    "\n"
   ]
  }
 ],
 "metadata": {
  "kernelspec": {
   "display_name": "Python 3 (ipykernel)",
   "language": "python",
   "name": "python3"
  },
  "orig_nbformat": 4
 },
 "nbformat": 4,
 "nbformat_minor": 2
}
